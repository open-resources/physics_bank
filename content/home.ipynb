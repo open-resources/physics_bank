{
 "cells": [
  {
   "cell_type": "markdown",
   "metadata": {},
   "source": [
    "# Introduction"
   ]
  },
  {
   "cell_type": "markdown",
   "metadata": {},
   "source": [
    "## Analytics"
   ]
  },
  {
   "cell_type": "code",
   "execution_count": 1,
   "metadata": {},
   "outputs": [],
   "source": [
    "import pathlib\n",
    "import os\n",
    "import problem_bank_scripts as pbs\n",
    "import altair as alt\n",
    "import pandas as pd\n",
    "import yaml\n",
    "\n",
    "from collections import Counter"
   ]
  },
  {
   "cell_type": "code",
   "execution_count": 18,
   "metadata": {},
   "outputs": [],
   "source": [
    "source_root = 'public/'\n",
    "\n",
    "questions = []\n",
    "for root, dirs, files in os.walk(source_root):\n",
    "    for file in files:\n",
    "        if(file.endswith(\".md\")):\n",
    "            questions.append(os.path.join(root,file))"
   ]
  },
  {
   "cell_type": "code",
   "execution_count": 19,
   "metadata": {},
   "outputs": [],
   "source": [
    "question_dict = {}\n",
    "\n",
    "topics = []\n",
    "\n",
    "for i,q in enumerate(questions):\n",
    "    mdtext = pathlib.Path(q).read_text(encoding='utf8')\n",
    "\n",
    "    # Deal with YAML header\n",
    "    header_text = mdtext.rsplit('---\\n')[1]\n",
    "    header = yaml.safe_load('---\\n' + header_text)\n",
    "    \n",
    "    question_dict[f\"Q{i}\"] = {}\n",
    "    question_dict[f\"Q{i}\"]['title'] = header['title']\n",
    "    question_dict[f\"Q{i}\"]['topic'] = header['topic']\n",
    "    question_dict[f\"Q{i}\"]['outcomes'] = header['outcomes']\n",
    "    \n",
    "    topics.append(header['topic'])"
   ]
  },
  {
   "cell_type": "code",
   "execution_count": 23,
   "metadata": {},
   "outputs": [],
   "source": [
    "df = pd.DataFrame(dict(Counter(topics)),index=['Count']).T.reset_index()\n",
    "df = df.rename(columns={'index':'Topic'})"
   ]
  },
  {
   "cell_type": "code",
   "execution_count": 24,
   "metadata": {},
   "outputs": [
    {
     "output_type": "execute_result",
     "data": {
      "text/html": "\n<div id=\"altair-viz-2bcfbda463b74da2bef5a36ba1595cc6\"></div>\n<script type=\"text/javascript\">\n  (function(spec, embedOpt){\n    let outputDiv = document.currentScript.previousElementSibling;\n    if (outputDiv.id !== \"altair-viz-2bcfbda463b74da2bef5a36ba1595cc6\") {\n      outputDiv = document.getElementById(\"altair-viz-2bcfbda463b74da2bef5a36ba1595cc6\");\n    }\n    const paths = {\n      \"vega\": \"https://cdn.jsdelivr.net/npm//vega@5?noext\",\n      \"vega-lib\": \"https://cdn.jsdelivr.net/npm//vega-lib?noext\",\n      \"vega-lite\": \"https://cdn.jsdelivr.net/npm//vega-lite@4.8.1?noext\",\n      \"vega-embed\": \"https://cdn.jsdelivr.net/npm//vega-embed@6?noext\",\n    };\n\n    function loadScript(lib) {\n      return new Promise(function(resolve, reject) {\n        var s = document.createElement('script');\n        s.src = paths[lib];\n        s.async = true;\n        s.onload = () => resolve(paths[lib]);\n        s.onerror = () => reject(`Error loading script: ${paths[lib]}`);\n        document.getElementsByTagName(\"head\")[0].appendChild(s);\n      });\n    }\n\n    function showError(err) {\n      outputDiv.innerHTML = `<div class=\"error\" style=\"color:red;\">${err}</div>`;\n      throw err;\n    }\n\n    function displayChart(vegaEmbed) {\n      vegaEmbed(outputDiv, spec, embedOpt)\n        .catch(err => showError(`Javascript Error: ${err.message}<br>This usually means there's a typo in your chart specification. See the javascript console for the full traceback.`));\n    }\n\n    if(typeof define === \"function\" && define.amd) {\n      requirejs.config({paths});\n      require([\"vega-embed\"], displayChart, err => showError(`Error loading script: ${err.message}`));\n    } else if (typeof vegaEmbed === \"function\") {\n      displayChart(vegaEmbed);\n    } else {\n      loadScript(\"vega\")\n        .then(() => loadScript(\"vega-lite\"))\n        .then(() => loadScript(\"vega-embed\"))\n        .catch(showError)\n        .then(() => displayChart(vegaEmbed));\n    }\n  })({\"config\": {\"view\": {\"continuousWidth\": 400, \"continuousHeight\": 300}}, \"data\": {\"name\": \"data-188b39b9633b570980be8a86144214d5\"}, \"mark\": \"bar\", \"encoding\": {\"x\": {\"type\": \"quantitative\", \"field\": \"Count\"}, \"y\": {\"type\": \"nominal\", \"field\": \"Topic\", \"sort\": \"-x\", \"title\": \"\"}}, \"title\": \"Questions by Topic\", \"$schema\": \"https://vega.github.io/schema/vega-lite/v4.8.1.json\", \"datasets\": {\"data-188b39b9633b570980be8a86144214d5\": [{\"Topic\": \"Kinematics\", \"Count\": 2}, {\"Topic\": \"Rotational Dynamics\", \"Count\": 1}, {\"Topic\": \"Energy\", \"Count\": 10}, {\"Topic\": \"Springs\", \"Count\": 1}, {\"Topic\": \"Vectors\", \"Count\": 1}, {\"Topic\": \"centripetal motion\", \"Count\": 1}, {\"Topic\": \"Kinematics(2D and 3D)\", \"Count\": 1}, {\"Topic\": \"Force\", \"Count\": 5}, {\"Topic\": \"Math\", \"Count\": 1}, {\"Topic\": \"Conservation of Momentum\", \"Count\": 1}, {\"Topic\": \"Momentum and Impulse\", \"Count\": 4}, {\"Topic\": \"Simple Harmonic Motion\", \"Count\": 1}, {\"Topic\": \"Momentum and Implulse\", \"Count\": 1}]}}, {\"mode\": \"vega-lite\"});\n</script>",
      "text/plain": [
       "alt.Chart(...)"
      ]
     },
     "metadata": {},
     "execution_count": 24
    }
   ],
   "source": [
    "chart = alt.Chart(df).mark_bar().encode(alt.Y('Topic',sort='-x',title=''),alt.X('Count')).properties(title='Questions by Topic')\n",
    "chart"
   ]
  },
  {
   "cell_type": "code",
   "execution_count": 97,
   "metadata": {},
   "outputs": [],
   "source": [
    "#chart.save('topics.png',webdriver='firefox',scale_factor=2)"
   ]
  },
  {
   "source": [
    "## Question Index"
   ],
   "cell_type": "markdown",
   "metadata": {}
  },
  {
   "cell_type": "code",
   "execution_count": 33,
   "metadata": {},
   "outputs": [
    {
     "output_type": "execute_result",
     "data": {
      "text/plain": [
       "['public/003.Kinematics(1D)/Position/distance_travelled/distance_travelled.md',\n",
       " 'public/010.Rotational Dynamics/thread_on_spool/thread_on_spool.md',\n",
       " 'public/007.Energy/Kinetic Energy/KE_energy_momentum/KE_energy_momentum.md',\n",
       " 'public/007.Energy/Kinetic Energy/KE_testmass/KE_testmass.md',\n",
       " 'public/007.Energy/Conservation of Energy/ball_race/2012Final_q3.md',\n",
       " 'public/007.Energy/Conservation of Energy/dissipative_process/dissipative_process.md',\n",
       " 'public/007.Energy/Conservation of Energy/Energy lost to air friction/energy_lost_air_friction.md',\n",
       " 'public/007.Energy/Conservation of Energy/Physics of Roller Coasters/Physics of Roller Coasters.md',\n",
       " 'public/007.Energy/Conservation of Energy/Cut The Rope/Cut The Rope.md',\n",
       " 'public/007.Energy/Topic Outcome/frictionless_track/frictionless_track.md',\n",
       " 'public/007.Energy/Exploding_Asteroid/Exploding_Asteroid.md',\n",
       " 'public/013.Elasticity/Topic Outcome/Identical Mass-Springs with different Displacement/Identical Mass-Springs with different Displacement.md',\n",
       " 'public/002.Vectors/Topic Outcome/Choose_all_Vectors_Scalars/Choose_all_Vectors_Scalars.md',\n",
       " 'public/009.Rotational Motion/Topic Outcome/Wheel_of_fortune/Wheel_of_fortune.md',\n",
       " 'public/004.Kinematics(2D and 3D)/Uniform Circular Motion/centripetal_force/centripetal_force.md',\n",
       " 'public/004.Kinematics(2D and 3D)/Uniform Circular Motion/angular_speed/angular_speed.md',\n",
       " 'public/005.Force/Topic Outcome/spring_on_incline/spring_on_incline.md',\n",
       " 'public/005.Force/Topic Outcome/The max acceleration without slipping/The max acceleration without slipping.md',\n",
       " 'public/005.Force/Friction/Frictional Force between tires and road/Frictional Force between tires and road.md',\n",
       " 'public/005.Force/Equilibrium/Two blocks connected by a string/Two Blocks Connected by a String.md',\n",
       " \"public/005.Force/Newton's Third Law/Force Vectors/force_vectors.md\",\n",
       " 'public/005.Force/velocity_netforce/velocity_netforce.md',\n",
       " 'public/001.Math/Integrals/Rocket/Rocket.md',\n",
       " 'public/006.Momentum and Impulse/Conservation of Momentum/Isolated_systems/Isolated_systems.md',\n",
       " 'public/006.Momentum and Impulse/Conservation of Momentum/Explosions_and_Velocity/Explosions_and_Velocity.md',\n",
       " 'public/006.Momentum and Impulse/Conservation of Momentum/Perfect Elastic Colision of a mass attached to a spring/Perfect Elastic Collision of a mass attached to a spring.md',\n",
       " 'public/006.Momentum and Impulse/Momentum/Rock_Powered_Rocket/Rock_Powered_Rocket.md',\n",
       " 'public/006.Momentum and Impulse/Momentum/Dinner_Plate/dinner_plate.md',\n",
       " 'public/006.Momentum and Impulse/Impulse/Bouncing_Ball/Bouncing_Ball.md',\n",
       " 'public/006.Momentum and Impulse/Impulse/airbag_collision/airbag_collision.md']"
      ]
     },
     "metadata": {},
     "execution_count": 33
    }
   ],
   "source": [
    "questions"
   ]
  },
  {
   "cell_type": "code",
   "execution_count": 32,
   "metadata": {},
   "outputs": [
    {
     "output_type": "execute_result",
     "data": {
      "text/plain": [
       "{'title': 'Airbags', 'topic': 'Momentum and Impulse', 'outcomes': ['6.3.1.2']}"
      ]
     },
     "metadata": {},
     "execution_count": 32
    }
   ],
   "source": [
    "v"
   ]
  },
  {
   "cell_type": "code",
   "execution_count": 100,
   "metadata": {},
   "outputs": [],
   "source": [
    "import urllib.parse\n",
    "\n",
    "table = f\"# Question Index \\n \\n \\n | Question | Public HTML | Public MD | Instructor MD | PL |\\n| --------- | --------- | --------- | --------- | --------- |\\n\"\n",
    "\n",
    "html_pub = f\"https://firas.moosvi.com/oer/physicsbank/content/\"+q.replace('.md','.html')\n",
    "gh_pub = f\"https://github.com/open-resources/physics_bank/blob/main/content/public/\"+q\n",
    "gh_ins = f\"https://github.com/open-resources/instructor_physics_bank/blob/main/content/instructor/\"+q\n",
    "\n",
    "url_html_pub = f\"[Q {i+1}]({urllib.parse.quote(html_pub,safe='/:')})\"\n",
    "url_gh_pub = f\"[Q {i+1}]({urllib.parse.quote(gh_pub,safe='/:')})\"\n",
    "url_gh_ins = f\"[Q {i+1}]({urllib.parse.quote(gh_ins,safe='/:')})\"\n",
    "\n",
    "\n",
    "for i,q in enumerate(questions):\n",
    "    table += f'''{i+1} |  {url_html_pub}| {url_gh_pub} | {url_gh_ins} | [TBD]() | \\n'''"
   ]
  },
  {
   "cell_type": "code",
   "execution_count": 101,
   "metadata": {},
   "outputs": [
    {
     "output_type": "execute_result",
     "data": {
      "text/plain": [
       "15083"
      ]
     },
     "metadata": {},
     "execution_count": 101
    }
   ],
   "source": [
    "pathlib.Path(\"index.md\").write_text(table)"
   ]
  },
  {
   "cell_type": "markdown",
   "metadata": {},
   "source": [
    "## Usage"
   ]
  },
  {
   "cell_type": "markdown",
   "metadata": {},
   "source": [
    "## Acknowledgements\n",
    "\n",
    "The logo of this site is the [Svalbard Global Seed Vault](https://commons.wikimedia.org/wiki/File:Entrance_to_the_Seed_Vault_(cropped).jpg) and the image is licensed under the [Creative Commons](https://en.wikipedia.org/wiki/en:Creative_Commons) [Attribution-Share Alike 4.0 International license](https://creativecommons.org/licenses/by-sa/4.0/deed.en)."
   ]
  },
  {
   "cell_type": "code",
   "execution_count": null,
   "metadata": {},
   "outputs": [],
   "source": []
  }
 ],
 "metadata": {
  "kernelspec": {
   "name": "python3",
   "display_name": "Python 3.8.3 64-bit ('3.8.3': pyenv)"
  },
  "language_info": {
   "codemirror_mode": {
    "name": "ipython",
    "version": 3
   },
   "file_extension": ".py",
   "mimetype": "text/x-python",
   "name": "python",
   "nbconvert_exporter": "python",
   "pygments_lexer": "ipython3",
   "version": "3.8.3"
  },
  "interpreter": {
   "hash": "852908b3e087535644df2dcfc2c8e2e0756fb3e8a4901f95330a1b5c587ff934"
  }
 },
 "nbformat": 4,
 "nbformat_minor": 4
}