{
 "cells": [
  {
   "cell_type": "markdown",
   "metadata": {},
   "source": [
    "# Introduction"
   ]
  },
  {
   "cell_type": "markdown",
   "metadata": {},
   "source": [
    "## Analytics"
   ]
  },
  {
   "cell_type": "code",
   "execution_count": 1,
   "metadata": {},
   "outputs": [],
   "source": [
    "import pathlib\n",
    "import os\n",
    "import problem_bank_scripts as pbs\n",
    "import altair as alt\n",
    "import pandas as pd"
   ]
  },
  {
   "cell_type": "code",
   "execution_count": 8,
   "metadata": {},
   "outputs": [],
   "source": [
    "source_root = 'content/public/'\n",
    "\n",
    "questions = []\n",
    "for root, dirs, files in os.walk(source_root):\n",
    "    for file in files:\n",
    "        if(file.endswith(\".md\")):\n",
    "            questions.append(os.path.join(root,file))\n",
    "            #pathlib.Path(source_root).mkdir(parents=True, exist_ok=True)\n"
   ]
  },
  {
   "cell_type": "code",
   "execution_count": 11,
   "metadata": {},
   "outputs": [
    {
     "data": {
      "text/plain": [
       "['content/public/003.Kinematics(1D)/distance_travelled/distance_travelled.md',\n",
       " 'content/public/003.Kinematics(1D)/distance_travelled/.ipynb_checkpoints/q1_multiple-choice-checkpoint.md',\n",
       " 'content/public/003.Kinematics(1D)/Position/distance_travelled/distance_travelled.md',\n",
       " 'content/public/007.Energy/Kinetic Energy/KE_energy_momentum/KE_energy_momentum.md',\n",
       " 'content/public/007.Energy/Kinetic Energy/KE_testmass/KE_testmass.md',\n",
       " 'content/public/007.Energy/Kinetic Energy/q3/q3.md',\n",
       " 'content/public/007.Energy/Conservation of Energy/Physics of Roller Coasters/Physics of Roller Coasters.md',\n",
       " 'content/public/007.Energy/Topic Outcome/frictionless_track/frictionless_track.md',\n",
       " 'content/public/002.Vectors/Topic Outcome/Choose_all_Vectors_Scalars/Choose_all_Vectors_Scalars.md',\n",
       " 'content/public/009.Rotational Motion/Topic Outcome/Wheel_of_fortune/Wheel_of_fortune.md',\n",
       " 'content/public/004.Kinematics(2D and 3D)/Uniform Circular Motion/centripetal_force/centripetal_force.md',\n",
       " 'content/public/004.Kinematics(2D and 3D)/Uniform Circular Motion/angular_speed/angular_speed.md',\n",
       " 'content/public/005.Force/Topic Outcome/spring_on_incline/spring_on_incline.md',\n",
       " 'content/public/005.Force/velocity_netforce/velocity_netforce.md',\n",
       " 'content/public/006.Momentum and Impulse/Conservation of Momentum/Isolated_systems/Isolated_systems.md',\n",
       " 'content/public/006.Momentum and Impulse/Conservation of Momentum/Explosions_and_Velocity/Explosions_and_Velocity.md',\n",
       " 'content/public/006.Momentum and Impulse/Momentum/Rock_Powered_Rocket/Rock_Powered_Rocket.md',\n",
       " 'content/public/006.Momentum and Impulse/Impulse/airbag_collision/airbag_collision.md']"
      ]
     },
     "execution_count": 11,
     "metadata": {},
     "output_type": "execute_result"
    }
   ],
   "source": [
    "questions"
   ]
  },
  {
   "cell_type": "code",
   "execution_count": 4,
   "metadata": {},
   "outputs": [
    {
     "data": {
      "text/plain": [
       "'/Users/firasm/Sync/EL/Physics OER Bank/physics_bank'"
      ]
     },
     "execution_count": 4,
     "metadata": {},
     "output_type": "execute_result"
    }
   ],
   "source": [
    "pwd"
   ]
  },
  {
   "cell_type": "markdown",
   "metadata": {},
   "source": [
    "## Usage"
   ]
  },
  {
   "cell_type": "markdown",
   "metadata": {},
   "source": [
    "## Acknowledgements\n",
    "\n",
    "The logo of this site is the [Svalbard Global Seed Vault](https://commons.wikimedia.org/wiki/File:Entrance_to_the_Seed_Vault_(cropped).jpg) and the image is licensed under the [Creative Commons](https://en.wikipedia.org/wiki/en:Creative_Commons) [Attribution-Share Alike 4.0 International license](https://creativecommons.org/licenses/by-sa/4.0/deed.en)."
   ]
  },
  {
   "cell_type": "code",
   "execution_count": null,
   "metadata": {},
   "outputs": [],
   "source": []
  }
 ],
 "metadata": {
  "kernelspec": {
   "display_name": "Python 3",
   "language": "python",
   "name": "python3"
  },
  "language_info": {
   "codemirror_mode": {
    "name": "ipython",
    "version": 3
   },
   "file_extension": ".py",
   "mimetype": "text/x-python",
   "name": "python",
   "nbconvert_exporter": "python",
   "pygments_lexer": "ipython3",
   "version": "3.8.3"
  }
 },
 "nbformat": 4,
 "nbformat_minor": 4
}
