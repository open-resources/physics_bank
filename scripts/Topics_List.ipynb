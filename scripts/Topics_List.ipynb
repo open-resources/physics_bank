{
  "cells": [
    {
      "cell_type": "code",
      "source": [
        "import pathlib\n",
        "import os\n",
        "import problem_bank_scripts as pbs\n",
        "import altair as alt\n",
        "import pandas as pd\n",
        "import yaml\n",
        "import urllib.parse\n",
        "from collections import Counter\n",
        "\n"
      ],
      "outputs": [],
      "execution_count": 2,
      "metadata": {
        "execution": {
          "iopub.status.busy": "2021-07-26T22:32:36.463Z",
          "iopub.execute_input": "2021-07-26T22:32:36.468Z",
          "iopub.status.idle": "2021-07-26T22:32:38.596Z",
          "shell.execute_reply": "2021-07-26T22:32:38.612Z"
        }
      }
    },
    {
      "cell_type": "code",
      "source": [
        "source_root = '../content/public/'\n",
        "\n",
        "## Analytics\n",
        "\n",
        "questions = []\n",
        "for root, dirs, files in os.walk(source_root):\n",
        "    for file in files:\n",
        "        if(file.endswith(\".md\")):\n",
        "            questions.append(os.path.join(root,file))\n",
        "            \n",
        "o_topics = [[q.split('../content/public/')[1].split('/')[0].split('.')[1],\n",
        "             q.split('../content/public/')[1].split('/')[0].replace('.','-')] for q in questions]\n",
        "\n",
        "df_nice = pd.DataFrame(o_topics,columns=['Topic','Nice Topics']\n",
        "                      ).drop_duplicates().reset_index(drop=True).sort_values(by='Nice Topics',axis=0)\n",
        "question_dict = {}\n",
        "\n",
        "topics = []\n",
        "\n",
        "for i,q in enumerate(questions):\n",
        "\n",
        "    try: \n",
        "        mdtext = pathlib.Path(q).read_text(encoding='utf8')\n",
        "\n",
        "        # Deal with YAML header\n",
        "        header_text = mdtext.rsplit('---\\n')[1]\n",
        "        header = yaml.safe_load('---\\n' + header_text)\n",
        "    except:\n",
        "        print(f'Problem in question: {q}')\n",
        "\n",
        "        raise\n",
        "\n",
        "    question_dict[f\"Q{i}\"] = {}\n",
        "    question_dict[f\"Q{i}\"]['title'] = header['title']\n",
        "    question_dict[f\"Q{i}\"]['topic'] = header['topic']\n",
        "    question_dict[f\"Q{i}\"]['outcomes'] = header['outcomes']\n",
        "\n",
        "    topics.append(header['topic'])\n",
        "\n",
        "df = pd.DataFrame(dict(Counter(topics)),index=['Count']).T.reset_index().rename(columns={'index':'Topic'})\n",
        "df = df.merge(df_nice)\n",
        "\n",
        "## Create plot of questions by topic\n",
        "chart = alt.Chart(df).mark_bar().encode(alt.Y('Nice Topics:O',title=''),alt.X('Count')).properties(title=f'Questions by Topic (N={len(questions)})')\n",
        "chart.save('../images/topics.png',webdriver='firefox',scale_factor=2)"
      ],
      "outputs": [],
      "execution_count": 3,
      "metadata": {
        "execution": {
          "iopub.status.busy": "2021-07-26T22:32:38.602Z",
          "iopub.execute_input": "2021-07-26T22:32:38.607Z",
          "shell.execute_reply": "2021-07-26T22:32:43.542Z",
          "iopub.status.idle": "2021-07-26T22:32:43.548Z"
        }
      }
    },
    {
      "cell_type": "code",
      "source": [
        "chart"
      ],
      "outputs": [
        {
          "output_type": "execute_result",
          "execution_count": 4,
          "data": {
            "text/html": "\n<div id=\"altair-viz-b071499f149d431abfb3399c6a7d52bd\"></div>\n<script type=\"text/javascript\">\n  (function(spec, embedOpt){\n    let outputDiv = document.currentScript.previousElementSibling;\n    if (outputDiv.id !== \"altair-viz-b071499f149d431abfb3399c6a7d52bd\") {\n      outputDiv = document.getElementById(\"altair-viz-b071499f149d431abfb3399c6a7d52bd\");\n    }\n    const paths = {\n      \"vega\": \"https://cdn.jsdelivr.net/npm//vega@5?noext\",\n      \"vega-lib\": \"https://cdn.jsdelivr.net/npm//vega-lib?noext\",\n      \"vega-lite\": \"https://cdn.jsdelivr.net/npm//vega-lite@4.8.1?noext\",\n      \"vega-embed\": \"https://cdn.jsdelivr.net/npm//vega-embed@6?noext\",\n    };\n\n    function loadScript(lib) {\n      return new Promise(function(resolve, reject) {\n        var s = document.createElement('script');\n        s.src = paths[lib];\n        s.async = true;\n        s.onload = () => resolve(paths[lib]);\n        s.onerror = () => reject(`Error loading script: ${paths[lib]}`);\n        document.getElementsByTagName(\"head\")[0].appendChild(s);\n      });\n    }\n\n    function showError(err) {\n      outputDiv.innerHTML = `<div class=\"error\" style=\"color:red;\">${err}</div>`;\n      throw err;\n    }\n\n    function displayChart(vegaEmbed) {\n      vegaEmbed(outputDiv, spec, embedOpt)\n        .catch(err => showError(`Javascript Error: ${err.message}<br>This usually means there's a typo in your chart specification. See the javascript console for the full traceback.`));\n    }\n\n    if(typeof define === \"function\" && define.amd) {\n      requirejs.config({paths});\n      require([\"vega-embed\"], displayChart, err => showError(`Error loading script: ${err.message}`));\n    } else if (typeof vegaEmbed === \"function\") {\n      displayChart(vegaEmbed);\n    } else {\n      loadScript(\"vega\")\n        .then(() => loadScript(\"vega-lite\"))\n        .then(() => loadScript(\"vega-embed\"))\n        .catch(showError)\n        .then(() => displayChart(vegaEmbed));\n    }\n  })({\"config\": {\"view\": {\"continuousWidth\": 400, \"continuousHeight\": 300}}, \"data\": {\"name\": \"data-4099001239ce9d170aaa2a4befb18f78\"}, \"mark\": \"bar\", \"encoding\": {\"x\": {\"type\": \"quantitative\", \"field\": \"Count\"}, \"y\": {\"type\": \"ordinal\", \"field\": \"Nice Topics\", \"title\": \"\"}}, \"title\": \"Questions by Topic (N=135)\", \"$schema\": \"https://vega.github.io/schema/vega-lite/v4.8.1.json\", \"datasets\": {\"data-4099001239ce9d170aaa2a4befb18f78\": [{\"Topic\": \"Kinematics(1D)\", \"Count\": 11, \"Nice Topics\": \"004-Kinematics(1D)\"}, {\"Topic\": \"Force\", \"Count\": 36, \"Nice Topics\": \"006-Force\"}, {\"Topic\": \"Magnetism\", \"Count\": 3, \"Nice Topics\": \"019-Magnetism\"}, {\"Topic\": \"Rotational Dynamics\", \"Count\": 3, \"Nice Topics\": \"011-Rotational Dynamics\"}, {\"Topic\": \"Rotational Motion\", \"Count\": 8, \"Nice Topics\": \"010-Rotational Motion\"}, {\"Topic\": \"Vectors\", \"Count\": 2, \"Nice Topics\": \"003-Vectors\"}, {\"Topic\": \"Physics in General\", \"Count\": 5, \"Nice Topics\": \"002-Physics in General\"}, {\"Topic\": \"Kinematics(2D and 3D)\", \"Count\": 10, \"Nice Topics\": \"005-Kinematics(2D and 3D)\"}, {\"Topic\": \"Electrostatics\", \"Count\": 2, \"Nice Topics\": \"018-Electrostatics\"}, {\"Topic\": \"Momentum and Impulse\", \"Count\": 19, \"Nice Topics\": \"007-Momentum and Impulse\"}, {\"Topic\": \"Math\", \"Count\": 2, \"Nice Topics\": \"001-Math\"}, {\"Topic\": \"Energy\", \"Count\": 17, \"Nice Topics\": \"008-Energy\"}, {\"Topic\": \"Circuits\", \"Count\": 10, \"Nice Topics\": \"021-Circuits\"}, {\"Topic\": \"Work\", \"Count\": 5, \"Nice Topics\": \"009-Work\"}, {\"Topic\": \"Oscillations\", \"Count\": 2, \"Nice Topics\": \"015-Oscillations\"}]}}, {\"mode\": \"vega-lite\"});\n</script>",
            "text/plain": "alt.Chart(...)"
          },
          "metadata": {}
        }
      ],
      "execution_count": 4,
      "metadata": {
        "execution": {
          "iopub.status.busy": "2021-07-26T22:32:43.554Z",
          "iopub.execute_input": "2021-07-26T22:32:43.559Z",
          "iopub.status.idle": "2021-07-26T22:32:43.577Z",
          "shell.execute_reply": "2021-07-26T22:32:43.658Z"
        }
      }
    },
    {
      "cell_type": "code",
      "source": [],
      "outputs": [],
      "execution_count": null,
      "metadata": {}
    }
  ],
  "metadata": {
    "kernelspec": {
      "display_name": "Python 3",
      "language": "python",
      "name": "python3"
    },
    "language_info": {
      "name": "python",
      "version": "3.8.3",
      "mimetype": "text/x-python",
      "codemirror_mode": {
        "name": "ipython",
        "version": 3
      },
      "pygments_lexer": "ipython3",
      "nbconvert_exporter": "python",
      "file_extension": ".py"
    },
    "nteract": {
      "version": "0.28.0"
    }
  },
  "nbformat": 4,
  "nbformat_minor": 4
}