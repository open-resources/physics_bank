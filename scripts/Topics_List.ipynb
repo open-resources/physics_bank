{
  "cells": [
    {
      "cell_type": "code",
      "execution_count": 1,
      "metadata": {
        "execution": {
          "iopub.execute_input": "2021-07-26T22:44:52.567Z",
          "iopub.status.busy": "2021-07-26T22:44:52.560Z",
          "iopub.status.idle": "2021-07-26T22:44:54.388Z",
          "shell.execute_reply": "2021-07-26T22:44:54.395Z"
        }
      },
      "outputs": [],
      "source": [
        "import pathlib\n",
        "import os\n",
        "import problem_bank_scripts as pbs\n",
        "import altair as alt\n",
        "import pandas as pd\n",
        "import yaml\n",
        "import urllib.parse\n",
        "from collections import Counter\n",
        "\n"
      ]
    },
    {
      "cell_type": "code",
      "execution_count": 2,
      "metadata": {
        "execution": {
          "iopub.execute_input": "2021-07-26T22:44:55.569Z",
          "iopub.status.busy": "2021-07-26T22:44:55.565Z",
          "iopub.status.idle": "2021-07-26T22:45:00.239Z",
          "shell.execute_reply": "2021-07-26T22:45:00.232Z"
        }
      },
      "outputs": [],
      "source": [
        "source_root = '../content/public/'\n",
        "\n",
        "## Analytics\n",
        "\n",
        "questions = []\n",
        "for root, dirs, files in os.walk(source_root):\n",
        "    for file in files:\n",
        "        if(file.endswith(\".md\")):\n",
        "            questions.append(os.path.join(root,file))\n",
        "            \n",
        "o_topics = [[q.split('../content/public/')[1].split('/')[0].split('.')[1],\n",
        "             q.split('../content/public/')[1].split('/')[0].replace('.','-')] for q in questions]\n",
        "\n",
        "df_nice = pd.DataFrame(o_topics,columns=['Topic','Nice Topics']\n",
        "                      ).drop_duplicates().reset_index(drop=True).sort_values(by='Nice Topics',axis=0)\n",
        "question_dict = {}\n",
        "\n",
        "topics = []\n",
        "\n",
        "for i,q in enumerate(questions):\n",
        "\n",
        "    try: \n",
        "        mdtext = pathlib.Path(q).read_text(encoding='utf8')\n",
        "\n",
        "        # Deal with YAML header\n",
        "        header_text = mdtext.rsplit('---\\n')[1]\n",
        "        header = yaml.safe_load('---\\n' + header_text)\n",
        "    except:\n",
        "        print(f'Problem in question: {q}')\n",
        "\n",
        "        raise\n",
        "\n",
        "    question_dict[f\"Q{i}\"] = {}\n",
        "    question_dict[f\"Q{i}\"]['title'] = header['title']\n",
        "    question_dict[f\"Q{i}\"]['topic'] = header['topic']\n",
        "    question_dict[f\"Q{i}\"]['outcomes'] = header['outcomes']\n",
        "\n",
        "    topics.append(header['topic'])\n",
        "\n",
        "df = pd.DataFrame(dict(Counter(topics)),index=['Count']).T.reset_index().rename(columns={'index':'Topic'})\n",
        "df = df.merge(df_nice)\n",
        "\n",
        "## Create plot of questions by topic\n",
        "chart = alt.Chart(df).mark_bar().encode(alt.Y('Nice Topics:O',title=''),alt.X('Count')).properties(title=f'Questions by Topic (N={len(questions)})')\n",
        "chart.save('../images/topics.png',scale_factor=2)"
      ]
    },
    {
      "cell_type": "code",
      "execution_count": 3,
      "metadata": {
        "execution": {
          "iopub.execute_input": "2021-07-26T22:32:43.559Z",
          "iopub.status.busy": "2021-07-26T22:32:43.554Z",
          "iopub.status.idle": "2021-07-26T22:32:43.577Z",
          "shell.execute_reply": "2021-07-26T22:32:43.658Z"
        }
      },
      "outputs": [
        {
          "data": {
            "text/html": [
              "\n",
              "<style>\n",
              "  #altair-viz-bf995c2e86ba4713a26bd1eefac259c0.vega-embed {\n",
              "    width: 100%;\n",
              "    display: flex;\n",
              "  }\n",
              "\n",
              "  #altair-viz-bf995c2e86ba4713a26bd1eefac259c0.vega-embed details,\n",
              "  #altair-viz-bf995c2e86ba4713a26bd1eefac259c0.vega-embed details summary {\n",
              "    position: relative;\n",
              "  }\n",
              "</style>\n",
              "<div id=\"altair-viz-bf995c2e86ba4713a26bd1eefac259c0\"></div>\n",
              "<script type=\"text/javascript\">\n",
              "  var VEGA_DEBUG = (typeof VEGA_DEBUG == \"undefined\") ? {} : VEGA_DEBUG;\n",
              "  (function(spec, embedOpt){\n",
              "    let outputDiv = document.currentScript.previousElementSibling;\n",
              "    if (outputDiv.id !== \"altair-viz-bf995c2e86ba4713a26bd1eefac259c0\") {\n",
              "      outputDiv = document.getElementById(\"altair-viz-bf995c2e86ba4713a26bd1eefac259c0\");\n",
              "    }\n",
              "    const paths = {\n",
              "      \"vega\": \"https://cdn.jsdelivr.net/npm/vega@5?noext\",\n",
              "      \"vega-lib\": \"https://cdn.jsdelivr.net/npm/vega-lib?noext\",\n",
              "      \"vega-lite\": \"https://cdn.jsdelivr.net/npm/vega-lite@5.8.0?noext\",\n",
              "      \"vega-embed\": \"https://cdn.jsdelivr.net/npm/vega-embed@6?noext\",\n",
              "    };\n",
              "\n",
              "    function maybeLoadScript(lib, version) {\n",
              "      var key = `${lib.replace(\"-\", \"\")}_version`;\n",
              "      return (VEGA_DEBUG[key] == version) ?\n",
              "        Promise.resolve(paths[lib]) :\n",
              "        new Promise(function(resolve, reject) {\n",
              "          var s = document.createElement('script');\n",
              "          document.getElementsByTagName(\"head\")[0].appendChild(s);\n",
              "          s.async = true;\n",
              "          s.onload = () => {\n",
              "            VEGA_DEBUG[key] = version;\n",
              "            return resolve(paths[lib]);\n",
              "          };\n",
              "          s.onerror = () => reject(`Error loading script: ${paths[lib]}`);\n",
              "          s.src = paths[lib];\n",
              "        });\n",
              "    }\n",
              "\n",
              "    function showError(err) {\n",
              "      outputDiv.innerHTML = `<div class=\"error\" style=\"color:red;\">${err}</div>`;\n",
              "      throw err;\n",
              "    }\n",
              "\n",
              "    function displayChart(vegaEmbed) {\n",
              "      vegaEmbed(outputDiv, spec, embedOpt)\n",
              "        .catch(err => showError(`Javascript Error: ${err.message}<br>This usually means there's a typo in your chart specification. See the javascript console for the full traceback.`));\n",
              "    }\n",
              "\n",
              "    if(typeof define === \"function\" && define.amd) {\n",
              "      requirejs.config({paths});\n",
              "      require([\"vega-embed\"], displayChart, err => showError(`Error loading script: ${err.message}`));\n",
              "    } else {\n",
              "      maybeLoadScript(\"vega\", \"5\")\n",
              "        .then(() => maybeLoadScript(\"vega-lite\", \"5.8.0\"))\n",
              "        .then(() => maybeLoadScript(\"vega-embed\", \"6\"))\n",
              "        .catch(showError)\n",
              "        .then(() => displayChart(vegaEmbed));\n",
              "    }\n",
              "  })({\"config\": {\"view\": {\"continuousWidth\": 300, \"continuousHeight\": 300}}, \"data\": {\"name\": \"data-4c865e4f8768210bbd487c89f289fb80\"}, \"mark\": {\"type\": \"bar\"}, \"encoding\": {\"x\": {\"field\": \"Count\", \"type\": \"quantitative\"}, \"y\": {\"field\": \"Nice Topics\", \"title\": \"\", \"type\": \"ordinal\"}}, \"title\": \"Questions by Topic (N=603)\", \"$schema\": \"https://vega.github.io/schema/vega-lite/v5.8.0.json\", \"datasets\": {\"data-4c865e4f8768210bbd487c89f289fb80\": [{\"Topic\": \"Kinematics(1D)\", \"Count\": 55, \"Nice Topics\": \"004-Kinematics(1D)\"}, {\"Topic\": \"Kinematics(2D and 3D)\", \"Count\": 42, \"Nice Topics\": \"005-Kinematics(2D and 3D)\"}, {\"Topic\": \"Waves\", \"Count\": 5, \"Nice Topics\": \"016-Waves\"}, {\"Topic\": \"Force\", \"Count\": 78, \"Nice Topics\": \"006-Force\"}, {\"Topic\": \"Magnetism\", \"Count\": 70, \"Nice Topics\": \"019-Magnetism\"}, {\"Topic\": \"Rotational Dynamics\", \"Count\": 7, \"Nice Topics\": \"011-Rotational Dynamics\"}, {\"Topic\": \"Rotational Motion\", \"Count\": 35, \"Nice Topics\": \"010-Rotational Motion\"}, {\"Topic\": \"Momentum and Impulse\", \"Count\": 56, \"Nice Topics\": \"007-Momentum and Impulse\"}, {\"Topic\": \"Vectors\", \"Count\": 9, \"Nice Topics\": \"003-Vectors\"}, {\"Topic\": \"Gravitation\", \"Count\": 1, \"Nice Topics\": \"012-Gravitation\"}, {\"Topic\": \"Physics in General\", \"Count\": 12, \"Nice Topics\": \"002-Physics in General\"}, {\"Topic\": \"Math\", \"Count\": 41, \"Nice Topics\": \"001-Math\"}, {\"Topic\": \"Electrostatics\", \"Count\": 32, \"Nice Topics\": \"018-Electrostatics\"}, {\"Topic\": \"Fluids\", \"Count\": 1, \"Nice Topics\": \"013-Fluids\"}, {\"Topic\": \"Circuits\", \"Count\": 71, \"Nice Topics\": \"021-Circuits\"}, {\"Topic\": \"Energy\", \"Count\": 25, \"Nice Topics\": \"008-Energy\"}, {\"Topic\": \"Work\", \"Count\": 18, \"Nice Topics\": \"009-Work\"}, {\"Topic\": \"Oscillations\", \"Count\": 20, \"Nice Topics\": \"015-Oscillations\"}]}}, {\"mode\": \"vega-lite\"});\n",
              "</script>"
            ],
            "text/plain": [
              "alt.Chart(...)"
            ]
          },
          "execution_count": 3,
          "metadata": {},
          "output_type": "execute_result"
        }
      ],
      "source": [
        "chart"
      ]
    }
  ],
  "metadata": {
    "kernelspec": {
      "display_name": "Python 3",
      "language": "python",
      "name": "python3"
    },
    "language_info": {
      "codemirror_mode": {
        "name": "ipython",
        "version": 3
      },
      "file_extension": ".py",
      "mimetype": "text/x-python",
      "name": "python",
      "nbconvert_exporter": "python",
      "pygments_lexer": "ipython3",
      "version": "3.10.2"
    },
    "nteract": {
      "version": "0.28.0"
    }
  },
  "nbformat": 4,
  "nbformat_minor": 4
}
